{
 "cells": [
  {
   "cell_type": "code",
   "execution_count": 51,
   "metadata": {},
   "outputs": [
    {
     "name": "stdout",
     "output_type": "stream",
     "text": [
      "        sweater hs_tf sparkly noise lights objects  \\\n",
      "0      sweater1   Yes     Yes    No     No      No   \n",
      "1      sweater2   Yes      No    No     No      No   \n",
      "2      sweater3   Yes      No    No     No      No   \n",
      "4      sweater5   Yes      No    No     No      No   \n",
      "6      sweater8   Yes      No   Yes    Yes     Yes   \n",
      "..          ...   ...     ...   ...    ...     ...   \n",
      "97   sweater100   Yes     Yes    No     No     Yes   \n",
      "100  sweater103   Yes      No   Yes     No     Yes   \n",
      "101  sweater104   Yes     Yes    No     No     Yes   \n",
      "102  sweater105   Yes      No    No     No      No   \n",
      "104  sweater107   Yes      No    No     No     Yes   \n",
      "\n",
      "                                      colors image_tf  \\\n",
      "0             Red, Yellow, Blue, White, teal      Yes   \n",
      "1                                      Green       No   \n",
      "2    Red, Yellow, Green, Brown, White, Black      Yes   \n",
      "4                         Blue, White, Black      Yes   \n",
      "6      Red, Green, Blue, Purple, White, Grey       No   \n",
      "..                                       ...      ...   \n",
      "97                      Orange, Yellow, Blue      Yes   \n",
      "100                Red, Yellow, White, Black      Yes   \n",
      "101                        Red, White, Black      Yes   \n",
      "102                   Red, Green, Blue, Grey       No   \n",
      "104                 Red, Green, White, Black      Yes   \n",
      "\n",
      "                     image_desc  \n",
      "0    octopus dressed like santa  \n",
      "1                           NaN  \n",
      "2                        Houses  \n",
      "4                         T-rex  \n",
      "6                           NaN  \n",
      "..                          ...  \n",
      "97                      Menorah  \n",
      "100                       Sloth  \n",
      "101    R2D2 wearing a Santa hat  \n",
      "102                         NaN  \n",
      "104     a llama wearing a scarf  \n",
      "\n",
      "[68 rows x 9 columns]\n"
     ]
    }
   ],
   "source": [
    "import pandas as pd\n",
    "\n",
    "# Step 1 Load Data\n",
    "data = pd.read_csv('ugly_sweaters.csv')\n",
    "data = data[data['hs_tf'] == 'Yes']\n",
    "print(data)"
   ]
  },
  {
   "cell_type": "code",
   "execution_count": 52,
   "metadata": {},
   "outputs": [
    {
     "name": "stdout",
     "output_type": "stream",
     "text": [
      "               sweater hs_tf sparkly noise lights objects  \\\n",
      "sweater                                                     \n",
      "sweater1      sweater1   Yes     Yes    No     No      No   \n",
      "sweater100    sweater2   Yes      No    No     No      No   \n",
      "sweater103    sweater3   Yes      No    No     No      No   \n",
      "sweater104    sweater5   Yes      No    No     No      No   \n",
      "sweater105    sweater8   Yes      No   Yes    Yes     Yes   \n",
      "...                ...   ...     ...   ...    ...     ...   \n",
      "sweater94   sweater100   Yes     Yes    No     No     Yes   \n",
      "sweater96   sweater103   Yes      No   Yes     No     Yes   \n",
      "sweater97   sweater104   Yes     Yes    No     No     Yes   \n",
      "sweater98   sweater105   Yes      No    No     No      No   \n",
      "sweater99   sweater107   Yes      No    No     No     Yes   \n",
      "\n",
      "                                                    colors image_tf  \\\n",
      "sweater                                                               \n",
      "sweater1              [Red,  Yellow,  Blue,  White,  teal]      Yes   \n",
      "sweater100                                         [Green]       No   \n",
      "sweater103  [Red,  Yellow,  Green,  Brown,  White,  Black]      Yes   \n",
      "sweater104                          [Blue,  White,  Black]      Yes   \n",
      "sweater105    [Red,  Green,  Blue,  Purple,  White,  Grey]       No   \n",
      "...                                                    ...      ...   \n",
      "sweater94                         [Orange,  Yellow,  Blue]      Yes   \n",
      "sweater96                   [Red,  Yellow,  White,  Black]      Yes   \n",
      "sweater97                            [Red,  White,  Black]      Yes   \n",
      "sweater98                      [Red,  Green,  Blue,  Grey]       No   \n",
      "sweater99                    [Red,  Green,  White,  Black]      Yes   \n",
      "\n",
      "                            image_desc  num_colors  \n",
      "sweater                                             \n",
      "sweater1    octopus dressed like santa           5  \n",
      "sweater100                         NaN           3  \n",
      "sweater103                      Houses           4  \n",
      "sweater104                       T-rex           3  \n",
      "sweater105                         NaN           4  \n",
      "...                                ...         ...  \n",
      "sweater94                      Menorah           3  \n",
      "sweater96                        Sloth           3  \n",
      "sweater97     R2D2 wearing a Santa hat           3  \n",
      "sweater98                          NaN           4  \n",
      "sweater99      a llama wearing a scarf           4  \n",
      "\n",
      "[68 rows x 10 columns]\n"
     ]
    }
   ],
   "source": [
    "# Step 2 Wrangle Data\n",
    "data['colors'] = data['colors'].str.split(',')\n",
    "expanded_data = data.explode('colors')\n",
    "expanded_data = expanded_data.groupby('sweater').count()\n",
    "data.index = expanded_data.index\n",
    "data['num_colors'] = expanded_data['hs_tf']\n",
    "print(data)\n"
   ]
  },
  {
   "cell_type": "code",
   "execution_count": null,
   "metadata": {},
   "outputs": [],
   "source": []
  }
 ],
 "metadata": {
  "kernelspec": {
   "display_name": "Python 3",
   "language": "python",
   "name": "python3"
  },
  "language_info": {
   "codemirror_mode": {
    "name": "ipython",
    "version": 3
   },
   "file_extension": ".py",
   "mimetype": "text/x-python",
   "name": "python",
   "nbconvert_exporter": "python",
   "pygments_lexer": "ipython3",
   "version": "3.8.5"
  }
 },
 "nbformat": 4,
 "nbformat_minor": 4
}
