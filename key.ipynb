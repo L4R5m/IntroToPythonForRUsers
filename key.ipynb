{
 "cells": [
  {
   "cell_type": "markdown",
   "metadata": {},
   "source": [
    "# Imports"
   ]
  },
  {
   "cell_type": "code",
   "execution_count": 1,
   "metadata": {},
   "outputs": [],
   "source": [
    "import pandas as pd\n"
   ]
  },
  {
   "cell_type": "markdown",
   "metadata": {},
   "source": [
    "## Customize"
   ]
  },
  {
   "cell_type": "code",
   "execution_count": 2,
   "metadata": {},
   "outputs": [],
   "source": [
    "# Customize Pandas settings (eg: DataFrame display)\n",
    "# Columns\n",
    "pd.options.display.max_columns = 10\n",
    "pd.options.display.max_colwidth = 15\n",
    "pd.options.display.width = 150\n",
    "# Rows\n",
    "pd.options.display.max_rows = pd.options.display.min_rows = 6\n"
   ]
  },
  {
   "cell_type": "code",
   "execution_count": null,
   "metadata": {},
   "outputs": [],
   "source": []
  },
  {
   "cell_type": "markdown",
   "metadata": {},
   "source": [
    "# Load Data"
   ]
  },
  {
   "cell_type": "markdown",
   "metadata": {},
   "source": [
    "We will be using ugly holiday sweater data crowdsourced from R-Ladies (and friends) in November/December 2020. If you would like to contribute your own ugly holiday sweater info to this dataset, please fill out this Google Form! See a summary of the data attributes here:\n",
    "\n",
    "    sweater: entry number\n",
    "    hs_tf: Do you have a holiday sweater? (Yes/No/NA)\n",
    "    sparkly: is it sparkly? (Yes/No/NA)\n",
    "    noise: does it make noise? (Yes/No/NA)\n",
    "    lights: does it light up? (Yes/No/NA)\n",
    "    objects: does it have anything attached to it? (Yes/No/NA)\n",
    "    colors: What colors does it have?\n",
    "    image_tf: Does it have an image on it? (Yes/No/NA)\n",
    "    image_desc: User-provided image description\n"
   ]
  },
  {
   "cell_type": "code",
   "execution_count": 3,
   "metadata": {},
   "outputs": [
    {
     "name": "stdout",
     "output_type": "stream",
     "text": [
      "df shape:\n",
      "(105, 8)\n",
      "\n",
      "Column names:\n",
      "['hs_tf', 'sparkly', 'noise', 'lights', 'objects', 'colors', 'image_tf', 'image_desc']\n",
      "\n",
      "           hs_tf sparkly noise lights objects          colors image_tf      image_desc\n",
      "sweater                                                                               \n",
      "sweater1     Yes     Yes    No     No      No  Red, Yellow...      Yes  octopus dre...\n",
      "sweater2     Yes      No    No     No      No           Green       No             NaN\n",
      "sweater3     Yes      No    No     No      No  Red, Yellow...      Yes          Houses\n",
      "...          ...     ...   ...    ...     ...             ...      ...             ...\n",
      "sweater105   Yes      No    No     No      No  Red, Green,...       No             NaN\n",
      "sweater106    No      No    No     No      No             NaN       No             NaN\n",
      "sweater107   Yes      No    No     No     Yes  Red, Green,...      Yes  a llama wea...\n",
      "\n",
      "[105 rows x 8 columns]\n"
     ]
    }
   ],
   "source": [
    "fnm = 'ugly_sweaters.csv'\n",
    "df = pd.read_csv(fnm, index_col='sweater')\n",
    "# Show the dataframe\n",
    "print(f'df shape:\\n{df.shape}')\n",
    "print(f'\\nColumn names:\\n{df.columns.to_list()}\\n')\n",
    "print(df)"
   ]
  },
  {
   "cell_type": "markdown",
   "metadata": {},
   "source": [
    "## Filter Data"
   ]
  },
  {
   "cell_type": "code",
   "execution_count": 4,
   "metadata": {},
   "outputs": [
    {
     "name": "stdout",
     "output_type": "stream",
     "text": [
      "           hs_tf sparkly noise lights objects          colors image_tf      image_desc\n",
      "sweater                                                                               \n",
      "sweater1     Yes     Yes    No     No      No  Red, Yellow...      Yes  octopus dre...\n",
      "sweater2     Yes      No    No     No      No           Green       No             NaN\n",
      "sweater3     Yes      No    No     No      No  Red, Yellow...      Yes          Houses\n",
      "...          ...     ...   ...    ...     ...             ...      ...             ...\n",
      "sweater104   Yes     Yes    No     No     Yes  Red, White,...      Yes  R2D2 wearin...\n",
      "sweater105   Yes      No    No     No      No  Red, Green,...       No             NaN\n",
      "sweater107   Yes      No    No     No     Yes  Red, Green,...      Yes  a llama wea...\n",
      "\n",
      "[68 rows x 8 columns]\n"
     ]
    }
   ],
   "source": [
    "# Filter to only include Holiday Sweaters\n",
    "data = df.loc[df.hs_tf == 'Yes']\n",
    "# Make a copy (instead of a view) since we'll be changing\n",
    "# col dtypes later and don't want to get SettingWithCopyWarning\n",
    "data = data.copy()\n",
    "print(data)"
   ]
  },
  {
   "cell_type": "markdown",
   "metadata": {},
   "source": [
    "# Wrangle Data"
   ]
  },
  {
   "cell_type": "code",
   "execution_count": 5,
   "metadata": {},
   "outputs": [
    {
     "name": "stdout",
     "output_type": "stream",
     "text": [
      "sweater\n",
      "sweater1      Red, Yellow...\n",
      "sweater2               Green\n",
      "sweater3      Red, Yellow...\n",
      "                   ...      \n",
      "sweater104    Red, White,...\n",
      "sweater105    Red, Green,...\n",
      "sweater107    Red, Green,...\n",
      "Name: colors, Length: 68, dtype: object\n"
     ]
    }
   ],
   "source": [
    "print(data.colors)"
   ]
  },
  {
   "cell_type": "code",
   "execution_count": 6,
   "metadata": {},
   "outputs": [
    {
     "name": "stdout",
     "output_type": "stream",
     "text": [
      "sweater\n",
      "sweater1      [Red,  Yell...\n",
      "sweater2             [Green]\n",
      "sweater3      [Red,  Yell...\n",
      "                   ...      \n",
      "sweater104    [Red,  Whit...\n",
      "sweater105    [Red,  Gree...\n",
      "sweater107    [Red,  Gree...\n",
      "Name: colors, Length: 68, dtype: object\n"
     ]
    }
   ],
   "source": [
    "# Convert 'colors' column from single comma-delim str to list\n",
    "# of string\n",
    "data.colors = data.colors.str.split(',')\n",
    "print(data.colors)"
   ]
  },
  {
   "cell_type": "code",
   "execution_count": 169,
   "metadata": {},
   "outputs": [
    {
     "name": "stdout",
     "output_type": "stream",
     "text": [
      "           hs_tf sparkly noise lights objects  colors image_tf      image_desc  num_colors  num_words\n",
      "sweater                                                                                              \n",
      "sweater1     Yes     Yes    No     No      No     NaN      Yes  [octopus, d...           1          4\n",
      "sweater2     Yes      No    No     No      No     NaN       No             NaN           1          1\n",
      "sweater3     Yes      No    No     No      No     NaN      Yes        [Houses]           1          1\n",
      "sweater5     Yes      No    No     No      No     NaN      Yes         [T-rex]           1          1\n",
      "sweater8     Yes      No   Yes    Yes     Yes     NaN       No             NaN           1          1\n",
      "...          ...     ...   ...    ...     ...     ...      ...             ...         ...        ...\n",
      "sweater100   Yes     Yes    No     No     Yes     NaN      Yes       [Menorah]           1          1\n",
      "sweater103   Yes      No   Yes     No     Yes     NaN      Yes         [Sloth]           1          1\n",
      "sweater104   Yes     Yes    No     No     Yes     NaN      Yes  [R2D2, wear...           1          5\n",
      "sweater105   Yes      No    No     No      No     NaN       No             NaN           1          1\n",
      "sweater107   Yes      No    No     No     Yes     NaN      Yes  [a, llama, ...           1          5\n",
      "\n",
      "[68 rows x 10 columns]\n"
     ]
    }
   ],
   "source": [
    "# Step 2 Wrangle Data\n",
    "data['colors'] = data['colors'].str.split(',')\n",
    "color_data = data.explode('colors').groupby('sweater').count()\n",
    "data['num_colors'] = color_data['hs_tf']\n",
    "\n",
    "data['image_desc'] = data['image_desc'].str.split(' ')\n",
    "description_data = data.explode('image_desc').groupby('sweater').count()\n",
    "\n",
    "data['num_words'] = description_data['hs_tf']\n",
    "print(data)"
   ]
  },
  {
   "cell_type": "code",
   "execution_count": 50,
   "metadata": {},
   "outputs": [
    {
     "data": {
      "text/plain": [
       "<AxesSubplot:xlabel='num_colors', ylabel='num_words'>"
      ]
     },
     "execution_count": 50,
     "metadata": {},
     "output_type": "execute_result"
    },
    {
     "data": {
      "image/png": "[encoded data removed]",
      "text/plain": [
       "<Figure size 432x288 with 1 Axes>"
      ]
     },
     "metadata": {
      "needs_background": "light"
     },
     "output_type": "display_data"
    }
   ],
   "source": [
    "# Step 3 Visualize\n",
    "data.plot.scatter('num_colors', 'num_words')"
   ]
  },
  {
   "cell_type": "code",
   "execution_count": null,
   "metadata": {},
   "outputs": [],
   "source": []
  }
 ],
 "metadata": {
  "kernelspec": {
   "display_name": "Python 3 (ipykernel)",
   "language": "python",
   "name": "python3"
  },
  "language_info": {
   "codemirror_mode": {
    "name": "ipython",
    "version": 3
   },
   "file_extension": ".py",
   "mimetype": "text/x-python",
   "name": "python",
   "nbconvert_exporter": "python",
   "pygments_lexer": "ipython3",
   "version": "3.8.10"
  },
  "toc": {
   "base_numbering": 1,
   "nav_menu": {},
   "number_sections": true,
   "sideBar": true,
   "skip_h1_title": false,
   "title_cell": "My cool stuff",
   "title_sidebar": "My cool stuff",
   "toc_cell": false,
   "toc_position": {},
   "toc_section_display": true,
   "toc_window_display": false
  }
 },
 "nbformat": 4,
 "nbformat_minor": 4
}
