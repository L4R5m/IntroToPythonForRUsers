{
 "cells": [
  {
   "cell_type": "code",
   "execution_count": 48,
   "metadata": {},
   "outputs": [
    {
     "name": "stdout",
     "output_type": "stream",
     "text": [
      "           hs_tf sparkly noise lights objects  \\\n",
      "sweater                                         \n",
      "sweater1     Yes     Yes    No     No      No   \n",
      "sweater2     Yes      No    No     No      No   \n",
      "sweater3     Yes      No    No     No      No   \n",
      "sweater5     Yes      No    No     No      No   \n",
      "sweater8     Yes      No   Yes    Yes     Yes   \n",
      "...          ...     ...   ...    ...     ...   \n",
      "sweater100   Yes     Yes    No     No     Yes   \n",
      "sweater103   Yes      No   Yes     No     Yes   \n",
      "sweater104   Yes     Yes    No     No     Yes   \n",
      "sweater105   Yes      No    No     No      No   \n",
      "sweater107   Yes      No    No     No     Yes   \n",
      "\n",
      "                                             colors image_tf  \\\n",
      "sweater                                                        \n",
      "sweater1             Red, Yellow, Blue, White, teal      Yes   \n",
      "sweater2                                      Green       No   \n",
      "sweater3    Red, Yellow, Green, Brown, White, Black      Yes   \n",
      "sweater5                         Blue, White, Black      Yes   \n",
      "sweater8      Red, Green, Blue, Purple, White, Grey       No   \n",
      "...                                             ...      ...   \n",
      "sweater100                     Orange, Yellow, Blue      Yes   \n",
      "sweater103                Red, Yellow, White, Black      Yes   \n",
      "sweater104                        Red, White, Black      Yes   \n",
      "sweater105                   Red, Green, Blue, Grey       No   \n",
      "sweater107                 Red, Green, White, Black      Yes   \n",
      "\n",
      "                            image_desc  \n",
      "sweater                                 \n",
      "sweater1    octopus dressed like santa  \n",
      "sweater2                           NaN  \n",
      "sweater3                        Houses  \n",
      "sweater5                         T-rex  \n",
      "sweater8                           NaN  \n",
      "...                                ...  \n",
      "sweater100                     Menorah  \n",
      "sweater103                       Sloth  \n",
      "sweater104    R2D2 wearing a Santa hat  \n",
      "sweater105                         NaN  \n",
      "sweater107     a llama wearing a scarf  \n",
      "\n",
      "[68 rows x 8 columns]\n"
     ]
    }
   ],
   "source": [
    "import pandas as pd\n",
    "\n",
    "# Step 1 Load Data\n",
    "data = pd.read_csv('ugly_sweaters.csv', index_col='sweater')\n",
    "data = data[data['hs_tf'] == 'Yes']\n",
    "print(data)"
   ]
  },
  {
   "cell_type": "code",
   "execution_count": 49,
   "metadata": {},
   "outputs": [
    {
     "name": "stdout",
     "output_type": "stream",
     "text": [
      "           hs_tf sparkly noise lights objects  \\\n",
      "sweater                                         \n",
      "sweater1     Yes     Yes    No     No      No   \n",
      "sweater2     Yes      No    No     No      No   \n",
      "sweater3     Yes      No    No     No      No   \n",
      "sweater5     Yes      No    No     No      No   \n",
      "sweater8     Yes      No   Yes    Yes     Yes   \n",
      "...          ...     ...   ...    ...     ...   \n",
      "sweater100   Yes     Yes    No     No     Yes   \n",
      "sweater103   Yes      No   Yes     No     Yes   \n",
      "sweater104   Yes     Yes    No     No     Yes   \n",
      "sweater105   Yes      No    No     No      No   \n",
      "sweater107   Yes      No    No     No     Yes   \n",
      "\n",
      "                                                    colors image_tf  \\\n",
      "sweater                                                               \n",
      "sweater1              [Red,  Yellow,  Blue,  White,  teal]      Yes   \n",
      "sweater2                                           [Green]       No   \n",
      "sweater3    [Red,  Yellow,  Green,  Brown,  White,  Black]      Yes   \n",
      "sweater5                            [Blue,  White,  Black]      Yes   \n",
      "sweater8      [Red,  Green,  Blue,  Purple,  White,  Grey]       No   \n",
      "...                                                    ...      ...   \n",
      "sweater100                        [Orange,  Yellow,  Blue]      Yes   \n",
      "sweater103                  [Red,  Yellow,  White,  Black]      Yes   \n",
      "sweater104                           [Red,  White,  Black]      Yes   \n",
      "sweater105                     [Red,  Green,  Blue,  Grey]       No   \n",
      "sweater107                   [Red,  Green,  White,  Black]      Yes   \n",
      "\n",
      "                                 image_desc  num_colors  num_words  \n",
      "sweater                                                             \n",
      "sweater1    [octopus, dressed, like, santa]           5          4  \n",
      "sweater2                                NaN           1          1  \n",
      "sweater3                           [Houses]           6          1  \n",
      "sweater5                            [T-rex]           3          1  \n",
      "sweater8                                NaN           6          1  \n",
      "...                                     ...         ...        ...  \n",
      "sweater100                        [Menorah]           3          1  \n",
      "sweater103                          [Sloth]           4          1  \n",
      "sweater104   [R2D2, wearing, a, Santa, hat]           3          5  \n",
      "sweater105                              NaN           4          1  \n",
      "sweater107    [a, llama, wearing, a, scarf]           4          5  \n",
      "\n",
      "[68 rows x 10 columns]\n"
     ]
    }
   ],
   "source": [
    "# Step 2 Wrangle Data\n",
    "data['colors'] = data['colors'].str.split(',')\n",
    "color_data = data.explode('colors').groupby('sweater').count()\n",
    "data['num_colors'] = color_data['hs_tf']\n",
    "\n",
    "data['image_desc'] = data['image_desc'].str.split(' ')\n",
    "description_data = data.explode('image_desc').groupby('sweater').count()\n",
    "\n",
    "data['num_words'] = description_data['hs_tf']\n",
    "print(data)"
   ]
  },
  {
   "cell_type": "code",
   "execution_count": null,
   "metadata": {},
   "outputs": [],
   "source": []
  }
 ],
 "metadata": {
  "kernelspec": {
   "display_name": "Python 3",
   "language": "python",
   "name": "python3"
  },
  "language_info": {
   "codemirror_mode": {
    "name": "ipython",
    "version": 3
   },
   "file_extension": ".py",
   "mimetype": "text/x-python",
   "name": "python",
   "nbconvert_exporter": "python",
   "pygments_lexer": "ipython3",
   "version": "3.8.5"
  }
 },
 "nbformat": 4,
 "nbformat_minor": 4
}
