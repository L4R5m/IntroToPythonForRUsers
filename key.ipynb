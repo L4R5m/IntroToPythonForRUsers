{
 "cells": [
  {
   "cell_type": "markdown",
   "metadata": {},
   "source": [
    "# Imports"
   ]
  },
  {
   "cell_type": "code",
   "execution_count": 14,
   "metadata": {},
   "outputs": [],
   "source": [
    "import pandas as pd\n",
    "\n",
    "import matplotlib as mpl\n",
    "from matplotlib import pyplot as plt\n",
    "\n",
    "import numpy as np"
   ]
  },
  {
   "cell_type": "code",
   "execution_count": 18,
   "metadata": {},
   "outputs": [],
   "source": []
  },
  {
   "cell_type": "markdown",
   "metadata": {},
   "source": [
    "## Customize"
   ]
  },
  {
   "cell_type": "code",
   "execution_count": 2,
   "metadata": {},
   "outputs": [],
   "source": [
    "# Customize Pandas settings (eg: DataFrame display)\n",
    "# Columns\n",
    "pd.options.display.max_columns = 10\n",
    "pd.options.display.max_colwidth = 15\n",
    "pd.options.display.width = 150\n",
    "# Rows\n",
    "pd.options.display.max_rows = pd.options.display.min_rows = 6\n"
   ]
  },
  {
   "cell_type": "code",
   "execution_count": null,
   "metadata": {},
   "outputs": [],
   "source": [
    "# Customize matplotlib\n",
    "plt.style.use('ggplot')"
   ]
  },
  {
   "cell_type": "code",
   "execution_count": 23,
   "metadata": {},
   "outputs": [],
   "source": [
    "plt.rcParams['figure.figsize'] = (12, 8)"
   ]
  },
  {
   "cell_type": "markdown",
   "metadata": {},
   "source": [
    "# Load Data"
   ]
  },
  {
   "cell_type": "markdown",
   "metadata": {},
   "source": [
    "We will be using ugly holiday sweater data crowdsourced from R-Ladies (and friends) in November/December 2020. If you would like to contribute your own ugly holiday sweater info to this dataset, please fill out this Google Form! See a summary of the data attributes here:\n",
    "\n",
    "    sweater: entry number\n",
    "    hs_tf: Do you have a holiday sweater? (Yes/No/NA)\n",
    "    sparkly: is it sparkly? (Yes/No/NA)\n",
    "    noise: does it make noise? (Yes/No/NA)\n",
    "    lights: does it light up? (Yes/No/NA)\n",
    "    objects: does it have anything attached to it? (Yes/No/NA)\n",
    "    colors: What colors does it have?\n",
    "    image_tf: Does it have an image on it? (Yes/No/NA)\n",
    "    image_desc: User-provided image description\n"
   ]
  },
  {
   "cell_type": "code",
   "execution_count": 3,
   "metadata": {},
   "outputs": [
    {
     "name": "stdout",
     "output_type": "stream",
     "text": [
      "df shape:\n",
      "(105, 8)\n",
      "\n",
      "Column names:\n",
      "['hs_tf', 'sparkly', 'noise', 'lights', 'objects', 'colors', 'image_tf', 'image_desc']\n",
      "\n",
      "           hs_tf sparkly noise lights objects          colors image_tf      image_desc\n",
      "sweater                                                                               \n",
      "sweater1     Yes     Yes    No     No      No  Red, Yellow...      Yes  octopus dre...\n",
      "sweater2     Yes      No    No     No      No           Green       No             NaN\n",
      "sweater3     Yes      No    No     No      No  Red, Yellow...      Yes          Houses\n",
      "...          ...     ...   ...    ...     ...             ...      ...             ...\n",
      "sweater105   Yes      No    No     No      No  Red, Green,...       No             NaN\n",
      "sweater106    No      No    No     No      No             NaN       No             NaN\n",
      "sweater107   Yes      No    No     No     Yes  Red, Green,...      Yes  a llama wea...\n",
      "\n",
      "[105 rows x 8 columns]\n"
     ]
    }
   ],
   "source": [
    "fnm = 'ugly_sweaters.csv'\n",
    "df = pd.read_csv(fnm, index_col='sweater')\n",
    "# Show the dataframe\n",
    "print(f'df shape:\\n{df.shape}')\n",
    "print(f'\\nColumn names:\\n{df.columns.to_list()}\\n')\n",
    "print(df)"
   ]
  },
  {
   "cell_type": "markdown",
   "metadata": {},
   "source": [
    "## Filter Data"
   ]
  },
  {
   "cell_type": "code",
   "execution_count": 4,
   "metadata": {},
   "outputs": [
    {
     "name": "stdout",
     "output_type": "stream",
     "text": [
      "           hs_tf sparkly noise lights objects          colors image_tf      image_desc\n",
      "sweater                                                                               \n",
      "sweater1     Yes     Yes    No     No      No  Red, Yellow...      Yes  octopus dre...\n",
      "sweater2     Yes      No    No     No      No           Green       No             NaN\n",
      "sweater3     Yes      No    No     No      No  Red, Yellow...      Yes          Houses\n",
      "...          ...     ...   ...    ...     ...             ...      ...             ...\n",
      "sweater104   Yes     Yes    No     No     Yes  Red, White,...      Yes  R2D2 wearin...\n",
      "sweater105   Yes      No    No     No      No  Red, Green,...       No             NaN\n",
      "sweater107   Yes      No    No     No     Yes  Red, Green,...      Yes  a llama wea...\n",
      "\n",
      "[68 rows x 8 columns]\n"
     ]
    }
   ],
   "source": [
    "# Filter to only include Holiday Sweaters\n",
    "data = df.loc[df.hs_tf == 'Yes']\n",
    "# Make a copy (instead of a view) since we'll be changing\n",
    "# col dtypes later and don't want to get SettingWithCopyWarning\n",
    "data = data.copy()\n",
    "print(data)"
   ]
  },
  {
   "cell_type": "markdown",
   "metadata": {},
   "source": [
    "# Wrangle Data"
   ]
  },
  {
   "cell_type": "markdown",
   "metadata": {},
   "source": [
    "## Calc number of 'colors'"
   ]
  },
  {
   "cell_type": "code",
   "execution_count": 5,
   "metadata": {},
   "outputs": [
    {
     "name": "stdout",
     "output_type": "stream",
     "text": [
      "sweater\n",
      "sweater1      Red, Yellow...\n",
      "sweater2               Green\n",
      "sweater3      Red, Yellow...\n",
      "                   ...      \n",
      "sweater104    Red, White,...\n",
      "sweater105    Red, Green,...\n",
      "sweater107    Red, Green,...\n",
      "Name: colors, Length: 68, dtype: object\n"
     ]
    }
   ],
   "source": [
    "print(data.colors)"
   ]
  },
  {
   "cell_type": "code",
   "execution_count": 6,
   "metadata": {},
   "outputs": [
    {
     "name": "stdout",
     "output_type": "stream",
     "text": [
      "sweater\n",
      "sweater1      [Red,  Yell...\n",
      "sweater2             [Green]\n",
      "sweater3      [Red,  Yell...\n",
      "                   ...      \n",
      "sweater104    [Red,  Whit...\n",
      "sweater105    [Red,  Gree...\n",
      "sweater107    [Red,  Gree...\n",
      "Name: colors_ls, Length: 68, dtype: object\n"
     ]
    }
   ],
   "source": [
    "# Convert 'colors' column from single comma-delim str to list\n",
    "# of string\n",
    "data['colors_ls'] = data.colors.str.split(',')\n",
    "print(data.colors_ls)"
   ]
  },
  {
   "cell_type": "code",
   "execution_count": 7,
   "metadata": {},
   "outputs": [
    {
     "name": "stdout",
     "output_type": "stream",
     "text": [
      "           hs_tf sparkly noise lights objects          colors image_tf      image_desc       colors_ls  num_colors\n",
      "sweater                                                                                                           \n",
      "sweater1     Yes     Yes    No     No      No  Red, Yellow...      Yes  octopus dre...  [Red,  Yell...           5\n",
      "sweater2     Yes      No    No     No      No           Green       No             NaN         [Green]           1\n",
      "sweater3     Yes      No    No     No      No  Red, Yellow...      Yes          Houses  [Red,  Yell...           6\n",
      "...          ...     ...   ...    ...     ...             ...      ...             ...             ...         ...\n",
      "sweater104   Yes     Yes    No     No     Yes  Red, White,...      Yes  R2D2 wearin...  [Red,  Whit...           3\n",
      "sweater105   Yes      No    No     No      No  Red, Green,...       No             NaN  [Red,  Gree...           4\n",
      "sweater107   Yes      No    No     No     Yes  Red, Green,...      Yes  a llama wea...  [Red,  Gree...           4\n",
      "\n",
      "[68 rows x 10 columns]\n"
     ]
    }
   ],
   "source": [
    "# Calculate how many colors are present & assign to new column\n",
    "data['num_colors'] = data.colors_ls.apply(lambda x: len(x))\n",
    "print(data)"
   ]
  },
  {
   "cell_type": "code",
   "execution_count": null,
   "metadata": {},
   "outputs": [],
   "source": []
  },
  {
   "cell_type": "markdown",
   "metadata": {},
   "source": [
    "## Calc len of 'image_desc'"
   ]
  },
  {
   "cell_type": "code",
   "execution_count": 8,
   "metadata": {},
   "outputs": [
    {
     "name": "stdout",
     "output_type": "stream",
     "text": [
      "           hs_tf sparkly noise lights objects          colors image_tf      image_desc       colors_ls  num_colors\n",
      "sweater                                                                                                           \n",
      "sweater1     Yes     Yes    No     No      No  Red, Yellow...      Yes  octopus dre...  [Red,  Yell...           5\n",
      "sweater2     Yes      No    No     No      No           Green       No                         [Green]           1\n",
      "sweater3     Yes      No    No     No      No  Red, Yellow...      Yes          Houses  [Red,  Yell...           6\n",
      "...          ...     ...   ...    ...     ...             ...      ...             ...             ...         ...\n",
      "sweater104   Yes     Yes    No     No     Yes  Red, White,...      Yes  R2D2 wearin...  [Red,  Whit...           3\n",
      "sweater105   Yes      No    No     No      No  Red, Green,...       No                  [Red,  Gree...           4\n",
      "sweater107   Yes      No    No     No     Yes  Red, Green,...      Yes  a llama wea...  [Red,  Gree...           4\n",
      "\n",
      "[68 rows x 10 columns]\n"
     ]
    }
   ],
   "source": [
    "# Replace NaN with empty str\n",
    "data.image_desc.fillna('', inplace=True)\n",
    "print(data)"
   ]
  },
  {
   "cell_type": "code",
   "execution_count": 9,
   "metadata": {},
   "outputs": [
    {
     "name": "stdout",
     "output_type": "stream",
     "text": [
      "sweater\n",
      "sweater1      [octopus, d...\n",
      "sweater2                  []\n",
      "sweater3            [Houses]\n",
      "                   ...      \n",
      "sweater104    [R2D2, wear...\n",
      "sweater105                []\n",
      "sweater107    [a, llama, ...\n",
      "Name: image_desc_ls, Length: 68, dtype: object\n"
     ]
    }
   ],
   "source": [
    "# Convert 'image_desc' column from single space-delim str to list\n",
    "data['image_desc_ls'] = data.image_desc.str.split()\n",
    "print(data.image_desc_ls)"
   ]
  },
  {
   "cell_type": "code",
   "execution_count": 10,
   "metadata": {},
   "outputs": [
    {
     "name": "stdout",
     "output_type": "stream",
     "text": [
      "           hs_tf sparkly noise lights objects  ...      image_desc       colors_ls num_colors   image_desc_ls  num_words\n",
      "sweater                                        ...                                                                      \n",
      "sweater1     Yes     Yes    No     No      No  ...  octopus dre...  [Red,  Yell...          5  [octopus, d...          4\n",
      "sweater2     Yes      No    No     No      No  ...                         [Green]          1              []          0\n",
      "sweater3     Yes      No    No     No      No  ...          Houses  [Red,  Yell...          6        [Houses]          1\n",
      "...          ...     ...   ...    ...     ...  ...             ...             ...        ...             ...        ...\n",
      "sweater104   Yes     Yes    No     No     Yes  ...  R2D2 wearin...  [Red,  Whit...          3  [R2D2, wear...          5\n",
      "sweater105   Yes      No    No     No      No  ...                  [Red,  Gree...          4              []          0\n",
      "sweater107   Yes      No    No     No     Yes  ...  a llama wea...  [Red,  Gree...          4  [a, llama, ...          5\n",
      "\n",
      "[68 rows x 12 columns]\n"
     ]
    }
   ],
   "source": [
    "# Calculate how many image_desc words are present & assign to new column\n",
    "data['num_words'] = data.image_desc_ls.apply(lambda x: len(x))\n",
    "print(data)"
   ]
  },
  {
   "cell_type": "code",
   "execution_count": null,
   "metadata": {},
   "outputs": [],
   "source": []
  },
  {
   "cell_type": "markdown",
   "metadata": {},
   "source": [
    "# Visualize"
   ]
  },
  {
   "cell_type": "code",
   "execution_count": 23,
   "metadata": {},
   "outputs": [],
   "source": [
    "# Change default plot size\n",
    "plt.rcParams['figure.figsize'] = (12, 8)"
   ]
  },
  {
   "cell_type": "markdown",
   "metadata": {},
   "source": [
    "## Pandas' plotter tools"
   ]
  },
  {
   "cell_type": "code",
   "execution_count": 24,
   "metadata": {},
   "outputs": [
    {
     "data": {
      "image/png": "[encoded data removed]",
      "text/plain": [
       "<Figure size 864x576 with 1 Axes>"
      ]
     },
     "metadata": {},
     "output_type": "display_data"
    }
   ],
   "source": [
    "# Pandas built-in plot tools (which use Matplotlib under the hood)\n",
    "# This is convenient, but doesn't give as much control as using the Matplotlib API\n",
    "data.plot.scatter('num_colors', 'num_words');"
   ]
  },
  {
   "cell_type": "code",
   "execution_count": null,
   "metadata": {},
   "outputs": [],
   "source": []
  },
  {
   "cell_type": "markdown",
   "metadata": {},
   "source": [
    "## Matplotlib API"
   ]
  },
  {
   "cell_type": "code",
   "execution_count": 76,
   "metadata": {},
   "outputs": [
    {
     "data": {
      "text/plain": [
       "['Solarize_Light2',\n",
       " '_classic_test_patch',\n",
       " 'bmh',\n",
       " 'classic',\n",
       " 'dark_background',\n",
       " 'fast',\n",
       " 'fivethirtyeight',\n",
       " 'ggplot',\n",
       " 'grayscale',\n",
       " 'seaborn',\n",
       " 'seaborn-bright',\n",
       " 'seaborn-colorblind',\n",
       " 'seaborn-dark',\n",
       " 'seaborn-dark-palette',\n",
       " 'seaborn-darkgrid',\n",
       " 'seaborn-deep',\n",
       " 'seaborn-muted',\n",
       " 'seaborn-notebook',\n",
       " 'seaborn-paper',\n",
       " 'seaborn-pastel',\n",
       " 'seaborn-poster',\n",
       " 'seaborn-talk',\n",
       " 'seaborn-ticks',\n",
       " 'seaborn-white',\n",
       " 'seaborn-whitegrid',\n",
       " 'tableau-colorblind10']"
      ]
     },
     "execution_count": 76,
     "metadata": {},
     "output_type": "execute_result"
    }
   ],
   "source": [
    "# There are many pre-defined styles... view the available options\n",
    "mpl.style.available\n",
    "# or use the default style\n",
    "mpl.style.use('default')"
   ]
  },
  {
   "cell_type": "code",
   "execution_count": 105,
   "metadata": {},
   "outputs": [],
   "source": [
    "# Matplotlib scatter plot doesn't have built-in jitter option...\n",
    "# but it's not too hard\n",
    "\n",
    "def jitterify(arr, factor=0.01):\n",
    "    \"\"\"Add jitter 'factor' to 'arr' data\n",
    "    :param arr: array-like, eg: list, ndarray\n",
    "    :param factor: float, 0.0 -> 1.0\n",
    "    :return: arr with added jitter\n",
    "    \"\"\"\n",
    "    assert 0.0 < factor < 1.0, f\"Error, invalid factor {factor}\"\n",
    "    arr = np.array(arr)\n",
    "    assert arr.ndim == 1, f\"Expected 1-d array, got {arr.ndim}\"\n",
    "    ptp = arr.ptp()\n",
    "    jitter = np.random.randn(arr.size) * factor * ptp\n",
    "    return arr + jitter\n"
   ]
  },
  {
   "cell_type": "code",
   "execution_count": 104,
   "metadata": {},
   "outputs": [
    {
     "data": {
      "image/png": "[encoded data removed]",
      "text/plain": [
       "<Figure size 640x480 with 1 Axes>"
      ]
     },
     "metadata": {},
     "output_type": "display_data"
    }
   ],
   "source": [
    "# Scatterplot docs:\n",
    "# https://matplotlib.org/stable/api/_as_gen/matplotlib.pyplot.scatter.html\n",
    "\n",
    "fontsize = 12\n",
    "markersize = 75\n",
    "color = '#424242'\n",
    "alpha = 0.4\n",
    "\n",
    "# Instantiate plot objects\n",
    "fig, ax = plt.subplots()\n",
    "\n",
    "# Add labels to axes\n",
    "ax.set_xlabel('Number of colors on sweater', fontsize=fontsize, color='k')\n",
    "ax.set_ylabel('Number of words\\nin sweater description', fontsize=fontsize, color='k')\n",
    "# Add figure title\n",
    "fig.suptitle(\"Relationship between the number of colors and\\nlength of description for ugly holiday sweaters\",\n",
    "            color='k', fontsize=fontsize + 2)\n",
    "\n",
    "# Add jitter to data so completely overlapping\n",
    "x = jitterify(data.num_colors)\n",
    "y = jitterify(data.num_words)\n",
    "# Plot\n",
    "ax.scatter(x, y,\n",
    "            c=color,\n",
    "            s=markersize,\n",
    "            alpha=alpha,\n",
    "            edgecolors=color,\n",
    "            linewidths=1.\n",
    "           )\n",
    "\n",
    "# Add polyfit curve\n",
    "coeffs = np.polyfit(data.num_colors, data.num_words, 1)\n",
    "xlim = ax.get_xlim()\n",
    "ax.plot(xlim, np.polyval(coeffs, xlim), color='k', alpha=0.9)\n",
    "\n",
    "# Set tick increment\n",
    "incr_x = 2\n",
    "incr_y = 5\n",
    "ax.xaxis.set_major_locator(mpl.ticker.MultipleLocator(incr_x))\n",
    "ax.yaxis.set_major_locator(mpl.ticker.MultipleLocator(incr_y))"
   ]
  },
  {
   "cell_type": "code",
   "execution_count": null,
   "metadata": {},
   "outputs": [],
   "source": []
  },
  {
   "cell_type": "markdown",
   "metadata": {},
   "source": [
    "## Seaborn library\n",
    "This library is designed with data-science and clean asthetics in mind... check it out!<br>\n",
    "https://seaborn.pydata.org/"
   ]
  },
  {
   "cell_type": "code",
   "execution_count": null,
   "metadata": {},
   "outputs": [],
   "source": []
  },
  {
   "cell_type": "code",
   "execution_count": null,
   "metadata": {},
   "outputs": [],
   "source": []
  },
  {
   "cell_type": "code",
   "execution_count": null,
   "metadata": {},
   "outputs": [],
   "source": []
  }
 ],
 "metadata": {
  "kernelspec": {
   "display_name": "Python 3 (ipykernel)",
   "language": "python",
   "name": "python3"
  },
  "language_info": {
   "codemirror_mode": {
    "name": "ipython",
    "version": 3
   },
   "file_extension": ".py",
   "mimetype": "text/x-python",
   "name": "python",
   "nbconvert_exporter": "python",
   "pygments_lexer": "ipython3",
   "version": "3.8.10"
  },
  "toc": {
   "base_numbering": 1,
   "nav_menu": {},
   "number_sections": true,
   "sideBar": true,
   "skip_h1_title": false,
   "title_cell": "My cool stuff",
   "title_sidebar": "My cool stuff",
   "toc_cell": false,
   "toc_position": {},
   "toc_section_display": true,
   "toc_window_display": false
  }
 },
 "nbformat": 4,
 "nbformat_minor": 4
}
